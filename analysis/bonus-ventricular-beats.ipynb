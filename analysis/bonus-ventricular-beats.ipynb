{
 "cells": [
  {
   "cell_type": "markdown",
   "metadata": {},
   "source": [
    "# Bonus Notebook - Ventricular Beats\n",
    "\n",
    "Extraction and classification of beats as ventricular or non-ventricular"
   ]
  },
  {
   "cell_type": "code",
   "execution_count": null,
   "metadata": {},
   "outputs": [],
   "source": [
    "from multiprocessing import Pool, cpu_count\n",
    "import os\n",
    "\n",
    "import matplotlib.pyplot as plt\n",
    "import numpy as np\n",
    "import pandas as pd\n",
    "from scipy import interpolate\n",
    "from scipy.stats import mode, skew, kurtosis\n",
    "from scipy.signal import butter, filtfilt\n",
    "from sklearn.model_selection import train_test_split\n",
    "import wfdb\n",
    "from wfdb import processing\n",
    "\n",
    "from vt.records import get_alarms, data_dir\n",
    "from vt.features import calc_moments, calc_spectral_ratios\n",
    "from vt.preprocessing import is_valid, fill_missing, bandpass, normalize"
   ]
  },
  {
   "cell_type": "code",
   "execution_count": null,
   "metadata": {},
   "outputs": [],
   "source": [
    "alarms, record_names, record_names_true, record_names_false = get_alarms()"
   ]
  },
  {
   "cell_type": "markdown",
   "metadata": {},
   "source": [
    "## Section 0 - A highly targeted feature - a ventricular beat classifier\n",
    "\n",
    "We need to create better features for our alarm classification system. Our classifiers are limited by the ability of our chosen features to discriminate between true and false alarms. Simple concepts like std and power ratios calculated on the entire 10s window are not sufficient to do so.\n",
    "\n",
    "Let's think about the specific challenge: identify whether or not **ventricular tachycardia** has occurred.\n",
    "- Ventricular beats\n",
    "- Tachycardia\n",
    "\n",
    "Idea: Make a classifier that classifies beats into ventricular and non-ventricular. To make this classifier, extract beats form the training records, create a beat bank, derive features from them, and fit an unsupervised classifier to these features. Because not all ECG channels are the same, we will train a classifier for each channel. We will not use BP channels (in this case) because the morphology difference between ventricular and non-ventricular beats is not as obvious.\n",
    "\n",
    "We are using an unsupervised classifier because there are no labels of ventricular beats, just true and false alarms. We could try to extract beats and label them according to alarm results. Perhaps that is another method to try!"
   ]
  },
  {
   "cell_type": "markdown",
   "metadata": {},
   "source": [
    "## Visualize signal distrubition"
   ]
  },
  {
   "cell_type": "code",
   "execution_count": null,
   "metadata": {},
   "outputs": [],
   "source": [
    "# Get the ecg channel distribution\n",
    "ecg_channels = []\n",
    "\n",
    "for record_name in record_names:\n",
    "    record = wfdb.rdheader(os.path.join(data_dir, record_name))\n",
    "    # First 2 channels are ECGs\n",
    "    ecg_channels.append(record.sig_name[0])\n",
    "    ecg_channels.append(record.sig_name[1])\n",
    "    \n",
    "channel_frequencies = dict(zip(ecg_channels,\n",
    "                               [ecg_channels.count(chan) for chan in ecg_channels]))\n",
    "ecg_channels = list(set(ecg_channels))\n",
    "\n",
    "display('ECG Channel frequencies: ', channel_frequencies)"
   ]
  },
  {
   "cell_type": "markdown",
   "metadata": {},
   "source": [
    "*There are three signals that only appear in one record each. We will not be training a classifier for these signals. If we encounter such signals in the testing data, we will skip ventricular beat detection for that channel."
   ]
  },
  {
   "cell_type": "markdown",
   "metadata": {},
   "source": [
    "## Section 1 - Extracting Beats\n",
    "\n",
    "We will aim to extract all beats within the last 20 seconds of each training record, an store them in a beat bank. This should give us a good sample of ventricular and non-ventricular beats.\n",
    "\n",
    "However, recall that our qrs detectors are not perfect (if they were, this challenge would be trivial), and often output qrs locations at non-beat locations.\n",
    "\n",
    "Because the algorithm forces whatever we put into it in two clusters, including features from non-beats detected by the detector may fundamentally train the algorithm to group ventricular beats with false alarm signal patterns. This may be expected, because these patterns set off the (false) alarms in the first place!\n",
    "\n",
    "This is quite troublesome, so we must be extra careful to put in only (or as high of a proportion as possible) real beats into the beat bank."
   ]
  },
  {
   "cell_type": "code",
   "execution_count": null,
   "metadata": {},
   "outputs": [],
   "source": [
    "def get_beats(sig, beat_inds, prop_left = 1/5, rr_limits=(75, 500), view=False):\n",
    "    \"\"\"\n",
    "    Given a signal and beat locations, extract the beats.\n",
    "    Beats are taken as prop_left of the signal fraction to the previous\n",
    "    beat, and 1-prop_left of the signal fraction to the next beat.\n",
    "\n",
    "    Exceptions are for the first beat, last beat, and when the\n",
    "    next beat is too close or far.\n",
    "    \n",
    "    Paramters\n",
    "    ---------\n",
    "    sig : numpy array\n",
    "        The 1d signal array\n",
    "    beat_inds : numpy array\n",
    "        The locations of the beat indices\n",
    "    prop_left : float, optional\n",
    "        The fraction/proportion of the beat that lies to the left of the\n",
    "        beat index. The remaining 1-prop_left lies to the right.\n",
    "    rr_limits : tuple, optional\n",
    "        Low and high limits of acceptable rr values. Default limits 75\n",
    "        and 500 samples correspond to 200bpm and 30bpm.\n",
    "    view : bool, optional\n",
    "        Whether to display the individual beats collected\n",
    "    \n",
    "    Returns\n",
    "    -------\n",
    "    beats : list\n",
    "        List of numpy arrays representing beats.\n",
    "    centers : list\n",
    "        List of relative locations of the beat centers for each beat\n",
    "    \"\"\"\n",
    "    \n",
    "    prop_right = 1 - prop_left\n",
    "    sig_len = len(sig)\n",
    "    n_beats = len(beat_inds)\n",
    "    \n",
    "    # List of numpy arrays of beat segments\n",
    "    beats = []\n",
    "    # qrs complex detection index relative to the start of each beat\n",
    "    centers = []\n",
    "    # rr intervals, used to extract beats\n",
    "    rr = np.diff(beat_inds)\n",
    "    mean_rr = np.average(rr[(rr < rr_limits[1]) & (rr > rr_limits[0])])\n",
    "    \n",
    "    for i in range(n_beats):\n",
    "        if i == 0:\n",
    "            len_left = rr[0]\n",
    "        \n",
    "        # Previous and next rr intervals for this qrs\n",
    "        rr_prev = rr[max(0, i - 1)]\n",
    "        rr_next = rr[min(i, n_beats-2)]\n",
    "        \n",
    "        # Constrain the rr intervals\n",
    "        if  not rr_limits[0] < rr_prev < rr_limits[1]:\n",
    "            rr_prev = mean_rr\n",
    "        if  not rr_limits[0] < rr_next < rr_limits[1]:\n",
    "            rr_next = mean_rr\n",
    "        \n",
    "        left_left = int(rr_prev * prop_left)\n",
    "        len_right = int(rr_next * prop_right)\n",
    "        \n",
    "        # Skip beats too close to boundaries\n",
    "        if beat_inds[i] - len_left < 0 or beat_inds[i] + len_right > sig_len-1:\n",
    "            continue\n",
    "        \n",
    "        beats.append(sig[beat_inds[i] - len_left:beat_inds[i] + len_right])\n",
    "        centers.append(len_left)        \n",
    "        \n",
    "        if view:\n",
    "            # Viewing results\n",
    "            print('len_left:', len_left, 'len_right:', len_right)\n",
    "            plt.plot(beats[-1])\n",
    "            plt.plot(centers[-1], beats[-1][centers[-1]], 'r*')\n",
    "            plt.show()\n",
    "\n",
    "    return beats, centers\n"
   ]
  },
  {
   "cell_type": "code",
   "execution_count": null,
   "metadata": {},
   "outputs": [],
   "source": [
    "def get_beat_bank(start_sec=280, stop_sec=300):\n",
    "    \"\"\"\n",
    "    Make a beat bank of ecgs by extracting all beats from\n",
    "    the same time section of channels 0 and 1 of all true\n",
    "    alarm training records.\n",
    "    \"\"\"\n",
    "    fs = 250\n",
    "    beat_bank = {}\n",
    "    # No cheating! We should only have access to training data\n",
    "    records_train, records_test = train_test_split(record_names)\n",
    "    \n",
    "    for record_name in records_train:\n",
    "        # Skip false alarm records\n",
    "        if not alarms.loc[record_name, 'result']:\n",
    "            continue\n",
    "        # Read record\n",
    "        signal, fields = wfdb.rdsamp(os.path.join(data_dir, record_name),\n",
    "                                     sampfrom=start_sec*fs, sampto=stop_sec*fs,\n",
    "                                     channels=[0, 1])\n",
    "        # Determine which signals are valid\n",
    "        valid = is_valid(signal)\n",
    "            \n",
    "        # Clean the signals, removing nans\n",
    "        signal = fill_missing(sig=signal)\n",
    "        # Filter the signal\n",
    "        signal = bandpass(signal, fs=fs, f_low=0.5, f_high=40, order=2)\n",
    "        \n",
    "        # Get beats from each channel\n",
    "        for ch in range(2):\n",
    "            sig_ch = signal[:, ch]\n",
    "            sig_name = fields['sig_name'][ch]\n",
    "            \n",
    "            # Skip the signals with too few instances\n",
    "            if sig_name.startswith('aV'):\n",
    "                continue\n",
    "                \n",
    "            # Skip flatline signals\n",
    "            if not valid[ch]:\n",
    "                continue\n",
    "\n",
    "            # Get beat locations\n",
    "            qrs_inds = processing.xqrs_detect(sig_ch, fs=fs,\n",
    "                                              verbose=False)\n",
    "            # Skip if too few beats\n",
    "            if len(qrs_inds) < 2:\n",
    "                continue\n",
    "            # Normalize the signal\n",
    "            sig_ch = normalize(sig_ch)\n",
    "            # Get the beats\n",
    "            beats, _ = get_beats(sig_ch, qrs_inds)\n",
    "            if sig_name not in beat_bank.keys():\n",
    "                beat_bank[sig_name] = []\n",
    "            beat_bank[sig_name] = beat_bank[sig_name] + beats\n",
    "    print('Finished obtaining beat bank')\n",
    "    \n",
    "    # Remove signals without beats from the dictionary\n",
    "    for sig_name in beat_bank:\n",
    "        if len(beat_bank[sig_name]) == 0:\n",
    "            print('Obtained no beats for signal %s. Removing.' % sig_name)\n",
    "            del(beat_bank[sig_name])\n",
    "    return beat_bank"
   ]
  },
  {
   "cell_type": "code",
   "execution_count": null,
   "metadata": {},
   "outputs": [],
   "source": [
    "# Get the beats and display the results\n",
    "beat_bank = get_beat_bank()\n",
    "for sig_name in beat_bank:\n",
    "    print('%d beats extracted for signal %s' % (len(beat_bank[sig_name]), sig_name))"
   ]
  },
  {
   "cell_type": "code",
   "execution_count": null,
   "metadata": {},
   "outputs": [],
   "source": [
    "# Visualize some obtained beats\n",
    "for sig_name in beat_bank: \n",
    "    for beat in beat_bank[sig_name][:3]:\n",
    "        plt.plot(beat)\n",
    "        plt.title('Signal %s' % sig_name)\n",
    "        plt.show()"
   ]
  },
  {
   "cell_type": "markdown",
   "metadata": {},
   "source": [
    "## Section 3 - Calculating Features from Beats\n",
    "\n",
    "For each signal type, we calculate features for its beats, and feed the feature array into an unsupervised classifier.\n",
    "\n",
    "In the overall alarm classification challenge, each record has a set of features. In this challenge, each beat has a set of features."
   ]
  },
  {
   "cell_type": "code",
   "execution_count": null,
   "metadata": {},
   "outputs": [],
   "source": [
    "def calc_beat_features(beat):\n",
    "    \"\"\"\n",
    "    Calculate features from a single beat\n",
    "    \n",
    "    Parameters\n",
    "    ----------\n",
    "    beat : numpy array\n",
    "        1d array of the beat signal\n",
    "    \"\"\"\n",
    "    feature_labels = ['skew', 'kurtosis', 'lfp', 'mfp', 'hfp']\n",
    "    \n",
    "    features = [skew(beat), kurtosis(beat)] + list(calc_spectral_ratios(beat, fs=250))\n",
    "    features = pd.DataFrame([features], columns=feature_labels)\n",
    "    return features"
   ]
  },
  {
   "cell_type": "code",
   "execution_count": null,
   "metadata": {},
   "outputs": [],
   "source": [
    "# A dictionary of dataframes. Each keys is a signal name, and each value\n",
    "# is a dataframes of features for all beats of that signal.\n",
    "beat_bank_features = {}\n",
    "\n",
    "for sig_name in beat_bank:\n",
    "    pool = Pool(processes=cpu_count()-1)\n",
    "    # Features for this signal\n",
    "    beat_bank_features_sig = pool.map(calc_beat_features, beat_bank[sig_name])\n",
    "    beat_bank_features_sig = pd.concat(beat_bank_features_sig)\n",
    "    # Add to the dictionary\n",
    "    beat_bank_features[sig_name] = beat_bank_features_sig\n",
    "    print('Finished calculating beat features for signal %s' % sig_name)"
   ]
  },
  {
   "cell_type": "code",
   "execution_count": null,
   "metadata": {},
   "outputs": [],
   "source": [
    "# Visualize some features\n",
    "for sig_name in beat_bank:\n",
    "    print('Signal %s' % sig_name)\n",
    "    display(beat_bank_features[sig_name].head())"
   ]
  },
  {
   "cell_type": "markdown",
   "metadata": {},
   "source": [
    "## Section 4 - Training unsupervised classifiers for beats\n",
    "\n",
    "K-Means Classification: http://scikit-learn.org/stable/modules/generated/sklearn.cluster.KMeans.html\n",
    "\n",
    "The algorithm aims to separate the n-dimensional data into K clusters, so as to minimize the within-cluster sum of squares from the mean.\n",
    "\n",
    "Therefore, we need only to pass in the raw data into the system. The challenge is in the previous step: choosing the features which will most effectively separate the different classes."
   ]
  },
  {
   "cell_type": "code",
   "execution_count": null,
   "metadata": {},
   "outputs": [],
   "source": [
    "from sklearn.cluster import KMeans"
   ]
  },
  {
   "cell_type": "code",
   "execution_count": null,
   "metadata": {},
   "outputs": [],
   "source": [
    "# Train a k-means classifier for each signal type\n",
    "beat_classifiers = dict([(sig_name ,[]) for sig_name in beat_bank])\n",
    "\n",
    "for sig_name in beat_bank_features:\n",
    "    clf_kmeans = KMeans(n_clusters=2, random_state=0).fit(beat_bank_features[sig_name])\n",
    "    beat_classifiers[sig_name] = clf_kmeans\n",
    "\n",
    "# clf_kmeans.cluster_centers_"
   ]
  },
  {
   "cell_type": "code",
   "execution_count": null,
   "metadata": {},
   "outputs": [],
   "source": [
    "# Visualize some of the beats\n",
    "for sig_name in beat_classifiers:\n",
    "    # Plot group 0 in blue, group 1 in red\n",
    "    zero_inds = np.where(beat_classifiers[sig_name].labels_==0)[0] \n",
    "    one_inds = np.where(beat_classifiers[sig_name].labels_==1)[0]\n",
    "    \n",
    "    for i in range(min(2, len(zero_inds))):\n",
    "        plt.plot(beat_bank[sig_name][zero_inds[i]], 'b')\n",
    "        plt.title('Signal %s class 0' % sig_name)\n",
    "        plt.show()\n",
    "        \n",
    "    for i in range(min(2, len(one_inds))):\n",
    "        plt.plot(beat_bank[sig_name][one_inds[i]], 'r')\n",
    "        plt.title('Signal %s class 1' % sig_name)\n",
    "        plt.show()\n",
    "                   "
   ]
  },
  {
   "cell_type": "code",
   "execution_count": null,
   "metadata": {},
   "outputs": [],
   "source": []
  }
 ],
 "metadata": {
  "kernelspec": {
   "display_name": "Python 3",
   "language": "python",
   "name": "python3"
  },
  "language_info": {
   "codemirror_mode": {
    "name": "ipython",
    "version": 3
   },
   "file_extension": ".py",
   "mimetype": "text/x-python",
   "name": "python",
   "nbconvert_exporter": "python",
   "pygments_lexer": "ipython3",
   "version": "3.5.2"
  }
 },
 "nbformat": 4,
 "nbformat_minor": 2
}
