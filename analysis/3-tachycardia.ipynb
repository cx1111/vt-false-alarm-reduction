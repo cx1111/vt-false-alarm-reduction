{
 "cells": [
  {
   "cell_type": "markdown",
   "metadata": {},
   "source": [
    "# Notebook 3 - Tachycardia\n",
    "\n",
    "Analyze signals for local tachycardia"
   ]
  },
  {
   "cell_type": "code",
   "execution_count": null,
   "metadata": {},
   "outputs": [],
   "source": [
    "from multiprocessing import Pool, cpu_count\n",
    "import os\n",
    "\n",
    "import numpy as np\n",
    "import pandas as pd\n",
    "from sklearn.model_selection import train_test_split\n",
    "import wfdb\n",
    "from wfdb import processing\n",
    "\n",
    "from vt.evaluate import calc_results\n",
    "from vt.records import get_alarms, data_dir\n",
    "from vt.preprocessing import fill_missing"
   ]
  },
  {
   "cell_type": "code",
   "execution_count": null,
   "metadata": {},
   "outputs": [],
   "source": [
    "alarms, record_names, record_names_true, record_names_false = get_alarms()"
   ]
  },
  {
   "cell_type": "markdown",
   "metadata": {},
   "source": [
    "## Section 0 - Extracting Tachycardia"
   ]
  },
  {
   "cell_type": "code",
   "execution_count": null,
   "metadata": {},
   "outputs": [],
   "source": [
    "def has_tachycardia(qrs_0, qrs_1):\n",
    "    \"\"\"\n",
    "    Use two sets of beat indices to determine whether or not\n",
    "    tachycardia has occurred. Only return True if it occurs in\n",
    "    both channels simultaneously.\n",
    "    \"\"\"\n",
    "    if len(qrs_0) < 5 or len(qrs_1) < 5:\n",
    "        return False\n",
    "    \n",
    "    # Iterate through groups of 5 channel 0 beats\n",
    "    for qrs_num in range(len(qrs_0) - 4):\n",
    "        local_beats_0 = qrs_0[qrs_num:qrs_num + 5]\n",
    "        local_beats_1 = qrs_1[(qrs_1 > local_beats_0[0] - 40) & (qrs_1 < local_beats_0[-1] + 40)]\n",
    "        \n",
    "        # Too few beats\n",
    "        if len(local_beats_1) < 5:\n",
    "            return False\n",
    "        \n",
    "        # rr intervals\n",
    "        rr = [np.diff(b) for b in [local_beats_0, local_beats_1]]        \n",
    "        \n",
    "        rr_mean = [np.mean(r) for r in rr]\n",
    "        \n",
    "        # Ventricular beat intervals must be consistent\n",
    "        allowed_rr_deviation = [np.mean(r) + 2*np.std(r) for r in rr]\n",
    "        for ch in range(2):\n",
    "            if (np.min(rr[ch]) < rr_mean[ch] - allowed_rr_deviation[ch]\n",
    "                    or np.max(rr[ch]) > rr_mean[ch] + allowed_rr_deviation[ch]):\n",
    "                return False\n",
    "        \n",
    "        if (processing.calc_mean_hr(rr[0], fs=250) > 100\n",
    "                and processing.calc_mean_hr(rr[1], fs=250) > 100):\n",
    "            return True\n",
    "    \n",
    "    return False"
   ]
  },
  {
   "cell_type": "code",
   "execution_count": null,
   "metadata": {},
   "outputs": [],
   "source": [
    "def calc_features(record_name):\n",
    "    \"\"\"\n",
    "    Strategy is to find tachycardia for 5 beats in both of the ecg channels simultaneously.\n",
    "    \"\"\"\n",
    "    fs = 250\n",
    "    start_sec = 290\n",
    "    stop_sec = 300\n",
    "    # Read record\n",
    "    signal, fields = wfdb.rdsamp(os.path.join(data_dir, record_name),\n",
    "                                 sampfrom=start_sec * fs,\n",
    "                                 sampto=stop_sec * fs, channels=[0,1,2])\n",
    "    # Remove nans\n",
    "    signal = fill_missing(signal)\n",
    "    \n",
    "    # Get beat indices\n",
    "    qrs_0 = processing.gqrs_detect(signal[:, 0], fs=fs)\n",
    "    qrs_1 = processing.gqrs_detect(signal[:, 1], fs=fs)\n",
    "    \n",
    "    # Figure out whether there is tachycardia\n",
    "    tachycardia = has_tachycardia(qrs_0, qrs_1)\n",
    "    \n",
    "    # Alarm result\n",
    "    result = alarms.loc[record_name, 'result']\n",
    "    features = pd.DataFrame([[tachycardia, result]], columns=['tachycardia', 'result'], index=[record_name])\n",
    "    return features\n",
    "    "
   ]
  },
  {
   "cell_type": "code",
   "execution_count": null,
   "metadata": {},
   "outputs": [],
   "source": [
    "# Calculate features for all records using multiple cpus\n",
    "pool = Pool(processes=cpu_count() - 1)\n",
    "features = pool.map(calc_features, record_names)\n",
    "\n",
    "# Combine features into a single data frame\n",
    "features = pd.concat(features)\n",
    "\n",
    "print('Finished calculating features')"
   ]
  },
  {
   "cell_type": "code",
   "execution_count": null,
   "metadata": {},
   "outputs": [],
   "source": [
    "display(features.head())"
   ]
  },
  {
   "cell_type": "markdown",
   "metadata": {},
   "source": [
    "## Section 1 - Use tachycardia feature as sole input to classify alarms"
   ]
  },
  {
   "cell_type": "code",
   "execution_count": null,
   "metadata": {},
   "outputs": [],
   "source": [
    "# Split data into training and testing sets\n",
    "x_train, x_test, y_train, y_test = train_test_split(features.iloc[:, :-1], features.iloc[:, -1],\n",
    "                                                    train_size=0.75, test_size=0.25,\n",
    "                                                    random_state=0)\n",
    "\n",
    "# Note that we're not using y_train here because we are not using a supervised classifier"
   ]
  },
  {
   "cell_type": "code",
   "execution_count": null,
   "metadata": {},
   "outputs": [],
   "source": [
    "# Calculate performance metrics\n",
    "cm, p_correct, score = calc_results(y_true=y_test, y_pred=x_test['tachycardia'].values)\n"
   ]
  },
  {
   "cell_type": "code",
   "execution_count": null,
   "metadata": {},
   "outputs": [],
   "source": [
    "# Display performance metrics\n",
    "display(cm)\n",
    "print('Final score:', score)"
   ]
  },
  {
   "cell_type": "markdown",
   "metadata": {},
   "source": [
    "## How to deal with errors?\n",
    "\n",
    "- Actual 0, predict 1 (false positives): Be more selective. Only accept ventricular tachycardia, rather than just tachycardia.\n",
    "- Actual 1, predict 0 (false Negatives): Beat detector not working as well as intended, therefore cannot rely purely on beat based approach.\n",
    "\n",
    "How to reconcile both simultaneously? Apply a non-beat specific approach which detects ventricular activity within a time window. Detecting ventricular activity should:\n",
    "- Reduce pure tachycardia false positives. Incorrect misclassification should not increase FP.\n",
    "- If used by itself, reduce missed beat false negatives. Incorrect misclassification may however increase false negatives. If used together with tachycardia, cannot reduce false negatives."
   ]
  },
  {
   "cell_type": "code",
   "execution_count": null,
   "metadata": {},
   "outputs": [],
   "source": []
  }
 ],
 "metadata": {
  "kernelspec": {
   "display_name": "Python 3",
   "language": "python",
   "name": "python3"
  },
  "language_info": {
   "codemirror_mode": {
    "name": "ipython",
    "version": 3
   },
   "file_extension": ".py",
   "mimetype": "text/x-python",
   "name": "python",
   "nbconvert_exporter": "python",
   "pygments_lexer": "ipython3",
   "version": "3.5.2"
  }
 },
 "nbformat": 4,
 "nbformat_minor": 2
}
