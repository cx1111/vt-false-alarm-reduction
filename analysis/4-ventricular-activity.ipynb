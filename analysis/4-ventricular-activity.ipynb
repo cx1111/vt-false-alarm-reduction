{
 "cells": [
  {
   "cell_type": "markdown",
   "metadata": {},
   "source": [
    "# Notebook 4 - Ventricular Activity\n",
    "\n",
    "Discern ventricular and non-ventricular activity"
   ]
  },
  {
   "cell_type": "code",
   "execution_count": null,
   "metadata": {},
   "outputs": [],
   "source": [
    "from multiprocessing import Pool, cpu_count\n",
    "import os\n",
    "\n",
    "import numpy as np\n",
    "import pandas as pd\n",
    "from sklearn.ensemble import GradientBoostingClassifier\n",
    "from sklearn.model_selection import train_test_split\n",
    "import wfdb\n",
    "from wfdb import processing\n",
    "\n",
    "from vt.evaluate import calc_results\n",
    "from vt.features import calc_spectral_ratios, visualize_features, has_tachycardia\n",
    "from vt.records import get_alarms, data_dir\n",
    "from vt.preprocessing import fill_missing"
   ]
  },
  {
   "cell_type": "code",
   "execution_count": null,
   "metadata": {},
   "outputs": [],
   "source": [
    "alarms, record_names, record_names_true, record_names_false = get_alarms()"
   ]
  },
  {
   "cell_type": "markdown",
   "metadata": {},
   "source": [
    "## Section 0 - Extract and calculate features from training signals"
   ]
  },
  {
   "cell_type": "code",
   "execution_count": null,
   "metadata": {},
   "outputs": [],
   "source": [
    "def calc_training_features():\n",
    "    \"\"\"\n",
    "    Calculate frequency features from labelled \n",
    "    intervals.\n",
    "    \n",
    "    For each record, calculate features from the labelled vtach section\n",
    "    for both ecg signals.\n",
    "    \n",
    "    In addition, take a 15s interval from another\n",
    "    arbitrary section of the record.\n",
    "    \"\"\"\n",
    "    fs = 250\n",
    "    vtach_intervals = {\n",
    "        'v328s':[293, 296.5],\n",
    "        'v334s':[296.2, 299.5],\n",
    "        'v348s':[294, 300],\n",
    "        'v368s':[290, 293],\n",
    "        'v369l':[296, 300],\n",
    "        'v404s':[292, 300],\n",
    "        'v448s':[294, 299],\n",
    "        'v471l':[298, 300],\n",
    "        'v522s':[291, 299],\n",
    "    }\n",
    "    \n",
    "    features = []\n",
    "    \n",
    "    for record_name in vtach_intervals:\n",
    "        start_sec = int(vtach_intervals[record_name][0])\n",
    "        stop_sec = int(vtach_intervals[record_name][1])\n",
    "\n",
    "        # Read record\n",
    "        signal, fields = wfdb.rdsamp(os.path.join(data_dir, record_name),\n",
    "                                     sampfrom=start_sec * fs,\n",
    "                                     sampto=stop_sec * fs, channels=[0,1])\n",
    "        \n",
    "        # Calculate spectral features for both ecg signals \n",
    "        features.append(list(calc_spectral_ratios(signal[:, 0], fs=250))+[True])\n",
    "        features.append(list(calc_spectral_ratios(signal[:, 0], fs=250))+[True])\n",
    "        \n",
    "        # Add spectral ratios for another arbitrary segment\n",
    "        signal, fields = wfdb.rdsamp(os.path.join(data_dir, record_name),\n",
    "                                     sampfrom=200 * fs,\n",
    "                                     sampto=215 * fs, channels=[0,1])\n",
    "        \n",
    "        # Calculate spectral features for both ecg signals \n",
    "        features.append(list(calc_spectral_ratios(signal[:, 0], fs=250))+[False])\n",
    "        features.append(list(calc_spectral_ratios(signal[:, 0], fs=250))+[False])\n",
    "    \n",
    "    features = pd.DataFrame(features, columns = ['lfp', 'mfp', 'hfp', 'result'])\n",
    "    \n",
    "    return features\n",
    "    "
   ]
  },
  {
   "cell_type": "code",
   "execution_count": null,
   "metadata": {},
   "outputs": [],
   "source": [
    "training_features = calc_training_features()"
   ]
  },
  {
   "cell_type": "code",
   "execution_count": null,
   "metadata": {},
   "outputs": [],
   "source": [
    "display(training_features.head())"
   ]
  },
  {
   "cell_type": "code",
   "execution_count": null,
   "metadata": {},
   "outputs": [],
   "source": [
    "visualize_features(training_features)"
   ]
  },
  {
   "cell_type": "code",
   "execution_count": null,
   "metadata": {},
   "outputs": [],
   "source": [
    "# Train the ventricular activity classifier\n",
    "clf_vent = GradientBoostingClassifier()\n",
    "clf_vent.fit(training_features.iloc[:, :-1], training_features['result'])"
   ]
  },
  {
   "cell_type": "markdown",
   "metadata": {},
   "source": [
    "## Section 1 - Implement Ventricular Tachycardia Detector\n",
    "\n",
    "Combine tachycardia and ventricular content"
   ]
  },
  {
   "cell_type": "code",
   "execution_count": null,
   "metadata": {},
   "outputs": [],
   "source": [
    "def calc_features(record_name):\n",
    "    \"\"\"\n",
    "    Strategy is to find tachycardia for 5 beats in both of the ecg channels simultaneously.\n",
    "    \"\"\"\n",
    "    fs = 250\n",
    "    start_sec = 290\n",
    "    stop_sec = 300\n",
    "    # Read record\n",
    "    signal, fields = wfdb.rdsamp(os.path.join(data_dir, record_name),\n",
    "                                 sampfrom=start_sec * fs,\n",
    "                                 sampto=stop_sec * fs, channels=[0,1,2])\n",
    "    # Remove nans\n",
    "    signal = fill_missing(signal)\n",
    "    \n",
    "    # Get beat indices\n",
    "    qrs_0 = processing.gqrs_detect(signal[:, 0], fs=fs)\n",
    "    qrs_1 = processing.gqrs_detect(signal[:, 1], fs=fs)\n",
    "    \n",
    "    # Figure out whether there is tachycardia\n",
    "    tachycardia = has_tachycardia(qrs_0, qrs_1)\n",
    "    \n",
    "    # Figure out whether there is ventricular activity in any 4s window in either channel.\n",
    "    # Inspect with 1s sliding duration\n",
    "    ventricular = False\n",
    "    for window_num in range(7):\n",
    "        # Get the windowed signal\n",
    "        sig_window = signal[window_num * fs:(4+window_num) * fs, :]\n",
    "        # Calculate frequency features\n",
    "        \n",
    "        window_features = [list(calc_spectral_ratios(sig_window[:, 0], fs=250)),\n",
    "                           list(calc_spectral_ratios(sig_window[:, 1], fs=250))]\n",
    "        window_ventricular = clf_vent.predict(window_features)\n",
    "        if np.any(window_ventricular):\n",
    "            ventricular = True\n",
    "            break\n",
    "    \n",
    "    # Alarm result\n",
    "    result = alarms.loc[record_name, 'result']\n",
    "    features = pd.DataFrame([[tachycardia, ventricular, tachycardia and ventricular, result]],\n",
    "                            columns=['tachycardia', 'ventricular', 'ventricular_tachycardia', 'result'], index=[record_name])\n",
    "    return features\n",
    "    "
   ]
  },
  {
   "cell_type": "code",
   "execution_count": null,
   "metadata": {},
   "outputs": [],
   "source": [
    "# Calculate features for all records using multiple cpus\n",
    "pool = Pool(processes=cpu_count() - 1)\n",
    "features = pool.map(calc_features, record_names)\n",
    "\n",
    "# Combine features into a single data frame\n",
    "features = pd.concat(features)\n",
    "\n",
    "print('Finished calculating features')"
   ]
  },
  {
   "cell_type": "code",
   "execution_count": null,
   "metadata": {},
   "outputs": [],
   "source": [
    "display(features.head())"
   ]
  },
  {
   "cell_type": "markdown",
   "metadata": {},
   "source": [
    "## Section 2 - Use ventricular tachycardia feature as input to alarm classifier"
   ]
  },
  {
   "cell_type": "code",
   "execution_count": null,
   "metadata": {},
   "outputs": [],
   "source": [
    "# Split data into training and testing sets\n",
    "x_train, x_test, y_train, y_test = train_test_split(features.iloc[:, :-1], features.iloc[:, -1],\n",
    "                                                    train_size=0.75, test_size=0.25,\n",
    "                                                    random_state=0)\n",
    "\n",
    "# Note that we're not using y_train here because we are not using a supervised classifier"
   ]
  },
  {
   "cell_type": "code",
   "execution_count": null,
   "metadata": {},
   "outputs": [],
   "source": [
    "# Calculate performance metrics\n",
    "cm, p_correct, score = calc_results(y_true=y_test, y_pred=x_test['ventricular_tachycardia'].values)"
   ]
  },
  {
   "cell_type": "code",
   "execution_count": null,
   "metadata": {},
   "outputs": [],
   "source": [
    "# Display performance metrics\n",
    "display(cm)\n",
    "print('Final score: ', score)"
   ]
  },
  {
   "cell_type": "markdown",
   "metadata": {},
   "source": [
    "We see that combining ventricular with tachycardia can reduce false positives. However, it cannot reduce false negatives.\n",
    "\n",
    "Technically, what we trained was based on signal segments, which should capture ventricular tachycardia on its own. We can test to see if the 'ventricular' feature performs better by itself"
   ]
  },
  {
   "cell_type": "code",
   "execution_count": null,
   "metadata": {},
   "outputs": [],
   "source": [
    "# Just using tachycardia\n",
    "cm, p_correct, score = calc_results(y_true=y_test, y_pred=x_test['tachycardia'].values)\n",
    "\n",
    "print('Results purely using tachycardia feature')\n",
    "display(cm)\n",
    "print('Final score: ', score)"
   ]
  },
  {
   "cell_type": "code",
   "execution_count": null,
   "metadata": {},
   "outputs": [],
   "source": [
    "# Just using ventricular\n",
    "cm, p_correct, score = calc_results(y_true=y_test, y_pred=x_test['ventricular'].values)\n",
    "\n",
    "print('Results purely using ventricular feature')\n",
    "display(cm)\n",
    "print('Final score: ', score)"
   ]
  },
  {
   "cell_type": "code",
   "execution_count": null,
   "metadata": {},
   "outputs": [],
   "source": []
  }
 ],
 "metadata": {
  "kernelspec": {
   "display_name": "Python 3",
   "language": "python",
   "name": "python3"
  },
  "language_info": {
   "codemirror_mode": {
    "name": "ipython",
    "version": 3
   },
   "file_extension": ".py",
   "mimetype": "text/x-python",
   "name": "python",
   "nbconvert_exporter": "python",
   "pygments_lexer": "ipython3",
   "version": "3.5.2"
  }
 },
 "nbformat": 4,
 "nbformat_minor": 2
}
